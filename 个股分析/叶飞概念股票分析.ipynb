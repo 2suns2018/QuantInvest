{
 "cells": [
  {
   "cell_type": "markdown",
   "metadata": {},
   "source": [
    "![](https://fenc.wang/imgs/2020/08/3565654bfbe9ffa0.png)"
   ]
  },
  {
   "cell_type": "code",
   "execution_count": 7,
   "metadata": {},
   "outputs": [],
   "source": [
    "import tushare as ts\n",
    "import pandas as pd\n",
    "import numpy as np\n",
    "import matplotlib.pyplot as plt\n",
    "import seaborn as sns\n",
    "\n",
    "from matplotlib.font_manager import FontProperties\n",
    "myfont=FontProperties(fname=r'C:\\Windows\\Fonts\\simhei.ttf',size=14)\n",
    "\n",
    "\n",
    "#设置完整显示数据\n",
    "pd.set_option('display.max_rows', 500)\n",
    "pd.set_option('display.max_columns', \n",
    "              500)\n",
    "pd.set_option('display.width', 1000)\n",
    "pd.set_option('display.float_format', '{:,.2f}'.format)\n",
    "\n",
    "pro = ts.pro_api('xxxxxxxxxxxxxxxxxxxxxxxxxxxxxxxxxxxxxxxxxxxxxxx')\n",
    "ts.set_token('xxxxxxxxxxxxxxxxxxxxxxxxxxxxxxxxxxxxxxxxxxxxxxx')\n",
    "\n",
    "\n"
   ]
  },
  {
   "cell_type": "code",
   "execution_count": 2,
   "metadata": {},
   "outputs": [],
   "source": [
    "cn_en={\n",
    "    'symbol':'代码',\n",
    "    'name':'名称',\n",
    "    'trade_date':'交易日',\n",
    "    'total_mv':'总市值(亿)',\n",
    "    'circ_mv':'流通市值(亿)',\n",
    "}"
   ]
  },
  {
   "cell_type": "code",
   "execution_count": 3,
   "metadata": {},
   "outputs": [],
   "source": [
    "#叶飞概念股票代码\n",
    "#tickers = ['002074','300185','002387','603680','000980','603377','605118','600552','300523','688033','002965','300503','601020','603557','002363','603929','603709','002464']\n",
    "tickers = ['维信诺', '龙腾光电', '京东方A', 'TCL科技', '深天马A']"
   ]
  },
  {
   "cell_type": "code",
   "execution_count": 4,
   "metadata": {},
   "outputs": [
    {
     "data": {
      "text/html": [
       "<div>\n",
       "<style scoped>\n",
       "    .dataframe tbody tr th:only-of-type {\n",
       "        vertical-align: middle;\n",
       "    }\n",
       "\n",
       "    .dataframe tbody tr th {\n",
       "        vertical-align: top;\n",
       "    }\n",
       "\n",
       "    .dataframe thead th {\n",
       "        text-align: right;\n",
       "    }\n",
       "</style>\n",
       "<table border=\"1\" class=\"dataframe\">\n",
       "  <thead>\n",
       "    <tr style=\"text-align: right;\">\n",
       "      <th></th>\n",
       "      <th>ts_code</th>\n",
       "      <th>symbol</th>\n",
       "      <th>name</th>\n",
       "    </tr>\n",
       "  </thead>\n",
       "  <tbody>\n",
       "    <tr>\n",
       "      <th>38</th>\n",
       "      <td>000050.SZ</td>\n",
       "      <td>000050</td>\n",
       "      <td>深天马A</td>\n",
       "    </tr>\n",
       "    <tr>\n",
       "      <th>58</th>\n",
       "      <td>000100.SZ</td>\n",
       "      <td>000100</td>\n",
       "      <td>TCL科技</td>\n",
       "    </tr>\n",
       "    <tr>\n",
       "      <th>264</th>\n",
       "      <td>000725.SZ</td>\n",
       "      <td>000725</td>\n",
       "      <td>京东方A</td>\n",
       "    </tr>\n",
       "    <tr>\n",
       "      <th>838</th>\n",
       "      <td>002387.SZ</td>\n",
       "      <td>002387</td>\n",
       "      <td>维信诺</td>\n",
       "    </tr>\n",
       "    <tr>\n",
       "      <th>4056</th>\n",
       "      <td>688055.SH</td>\n",
       "      <td>688055</td>\n",
       "      <td>龙腾光电</td>\n",
       "    </tr>\n",
       "  </tbody>\n",
       "</table>\n",
       "</div>"
      ],
      "text/plain": [
       "        ts_code  symbol   name\n",
       "38    000050.SZ  000050   深天马A\n",
       "58    000100.SZ  000100  TCL科技\n",
       "264   000725.SZ  000725   京东方A\n",
       "838   002387.SZ  002387    维信诺\n",
       "4056  688055.SH  688055   龙腾光电"
      ]
     },
     "execution_count": 4,
     "metadata": {},
     "output_type": "execute_result"
    }
   ],
   "source": [
    "stock_basic = pro.stock_basic(exchange='', list_status='L', fields='ts_code,symbol,name')\n",
    "\n",
    "if tickers[0].isnumeric():\n",
    "    stock_list = stock_basic[stock_basic['symbol'].isin(tickers)]\n",
    "else:\n",
    "    stock_list = stock_basic[stock_basic['name'].isin(tickers)]\n",
    "stock_list"
   ]
  },
  {
   "cell_type": "code",
   "execution_count": 5,
   "metadata": {},
   "outputs": [
    {
     "data": {
      "text/html": [
       "<div>\n",
       "<style scoped>\n",
       "    .dataframe tbody tr th:only-of-type {\n",
       "        vertical-align: middle;\n",
       "    }\n",
       "\n",
       "    .dataframe tbody tr th {\n",
       "        vertical-align: top;\n",
       "    }\n",
       "\n",
       "    .dataframe thead th {\n",
       "        text-align: right;\n",
       "    }\n",
       "</style>\n",
       "<table border=\"1\" class=\"dataframe\">\n",
       "  <thead>\n",
       "    <tr style=\"text-align: right;\">\n",
       "      <th></th>\n",
       "      <th>ts_code</th>\n",
       "      <th>代码</th>\n",
       "      <th>名称</th>\n",
       "      <th>交易日</th>\n",
       "      <th>pe</th>\n",
       "      <th>pe_ttm</th>\n",
       "      <th>pb</th>\n",
       "      <th>总市值(亿)</th>\n",
       "      <th>流通市值(亿)</th>\n",
       "    </tr>\n",
       "  </thead>\n",
       "  <tbody>\n",
       "    <tr>\n",
       "      <th>3</th>\n",
       "      <td>002387.SZ</td>\n",
       "      <td>002387</td>\n",
       "      <td>维信诺</td>\n",
       "      <td>20210521</td>\n",
       "      <td>57.64</td>\n",
       "      <td>3,266.89</td>\n",
       "      <td>0.80</td>\n",
       "      <td>117.35</td>\n",
       "      <td>117.31</td>\n",
       "    </tr>\n",
       "    <tr>\n",
       "      <th>4</th>\n",
       "      <td>688055.SH</td>\n",
       "      <td>688055</td>\n",
       "      <td>龙腾光电</td>\n",
       "      <td>20210521</td>\n",
       "      <td>89.42</td>\n",
       "      <td>49.89</td>\n",
       "      <td>5.88</td>\n",
       "      <td>234.33</td>\n",
       "      <td>19.92</td>\n",
       "    </tr>\n",
       "    <tr>\n",
       "      <th>0</th>\n",
       "      <td>000050.SZ</td>\n",
       "      <td>000050</td>\n",
       "      <td>深天马A</td>\n",
       "      <td>20210521</td>\n",
       "      <td>22.50</td>\n",
       "      <td>19.61</td>\n",
       "      <td>0.97</td>\n",
       "      <td>331.80</td>\n",
       "      <td>281.57</td>\n",
       "    </tr>\n",
       "    <tr>\n",
       "      <th>1</th>\n",
       "      <td>000100.SZ</td>\n",
       "      <td>000100</td>\n",
       "      <td>TCL科技</td>\n",
       "      <td>20210521</td>\n",
       "      <td>27.15</td>\n",
       "      <td>18.66</td>\n",
       "      <td>3.55</td>\n",
       "      <td>1,191.21</td>\n",
       "      <td>1,095.01</td>\n",
       "    </tr>\n",
       "    <tr>\n",
       "      <th>2</th>\n",
       "      <td>000725.SZ</td>\n",
       "      <td>000725</td>\n",
       "      <td>京东方A</td>\n",
       "      <td>20210521</td>\n",
       "      <td>45.82</td>\n",
       "      <td>23.91</td>\n",
       "      <td>2.35</td>\n",
       "      <td>2,307.13</td>\n",
       "      <td>2,223.50</td>\n",
       "    </tr>\n",
       "  </tbody>\n",
       "</table>\n",
       "</div>"
      ],
      "text/plain": [
       "     ts_code      代码     名称       交易日    pe   pe_ttm   pb   总市值(亿)  流通市值(亿)\n",
       "3  002387.SZ  002387    维信诺  20210521 57.64 3,266.89 0.80   117.35   117.31\n",
       "4  688055.SH  688055   龙腾光电  20210521 89.42    49.89 5.88   234.33    19.92\n",
       "0  000050.SZ  000050   深天马A  20210521 22.50    19.61 0.97   331.80   281.57\n",
       "1  000100.SZ  000100  TCL科技  20210521 27.15    18.66 3.55 1,191.21 1,095.01\n",
       "2  000725.SZ  000725   京东方A  20210521 45.82    23.91 2.35 2,307.13 2,223.50"
      ]
     },
     "execution_count": 5,
     "metadata": {},
     "output_type": "execute_result"
    }
   ],
   "source": [
    "daily_basic = pro.daily_basic(ts_code='', trade_date='20210521', fields='ts_code,trade_date,pe,pe_ttm,pb,total_mv,circ_mv')\n",
    "daily_basic['total_mv'] = daily_basic['total_mv'].div(10000)\n",
    "daily_basic['circ_mv'] = daily_basic['circ_mv'].div(10000)\n",
    "stock_list = stock_list.merge(daily_basic, on=['ts_code'])\n",
    "stock_list.sort_values(by='total_mv').rename(columns=cn_en)\n"
   ]
  },
  {
   "cell_type": "code",
   "execution_count": 8,
   "metadata": {},
   "outputs": [
    {
     "data": {
      "image/png": "[encoded data removed]",
      "text/plain": [
       "<Figure size 1008x1008 with 2 Axes>"
      ]
     },
     "metadata": {
      "needs_background": "light"
     },
     "output_type": "display_data"
    }
   ],
   "source": [
    "_names = stock_list['name']\n",
    "all_data ={}\n",
    "\n",
    "#遍历list里面的股票，可以写入多个股票\n",
    "for name,ts_code in zip(stock_list['name'],stock_list['ts_code']):\n",
    "    #获取各股票某时段的价格\n",
    "    all_data[name] = ts.pro_bar(ts_code=ts_code, adj='qfq', start_date='20200521', end_date='20210521')\n",
    "#用for循环遍历股票价格并转换为dataframe的形式\n",
    "p_data = pd.DataFrame({tic: data['close']\n",
    "                    for tic, data in all_data.items()})\n",
    "p_data['平均值']= p_data.mean(axis=1)\n",
    "#计算股票价格每日变化\n",
    "returns = p_data.pct_change()[1:]\n",
    "\n",
    "fig, ax = plt.subplots(figsize=(14,14)) \n",
    "cm = np.corrcoef(returns.values.T)\n",
    "sns.set(font_scale=1.5,font=myfont.get_name())\n",
    "sns.set_style('whitegrid',{'font.sans-serif':['simhei','Arial']}) \n",
    "\n",
    "hm = sns.heatmap(cm,\n",
    "                 cbar=True,\n",
    "                 annot=True,\n",
    "                 square=True,\n",
    "                 fmt='.2f',\n",
    "                 annot_kws={'size': 15},\n",
    "                 yticklabels=returns.columns,\n",
    "                 xticklabels=returns.columns,\n",
    "                 ax=ax)\n"
   ]
  },
  {
   "cell_type": "markdown",
   "metadata": {},
   "source": [
    "![](https://fenc.wang/imgs/2020/08/3565654bfbe9ffa0.png)"
   ]
  },
  {
   "cell_type": "code",
   "execution_count": null,
   "metadata": {},
   "outputs": [],
   "source": []
  }
 ],
 "metadata": {
  "kernelspec": {
   "display_name": "Python 3",
   "language": "python",
   "name": "python3"
  },
  "language_info": {
   "codemirror_mode": {
    "name": "ipython",
    "version": 3
   },
   "file_extension": ".py",
   "mimetype": "text/x-python",
   "name": "python",
   "nbconvert_exporter": "python",
   "pygments_lexer": "ipython3",
   "version": "3.8.7"
  }
 },
 "nbformat": 4,
 "nbformat_minor": 4
}
