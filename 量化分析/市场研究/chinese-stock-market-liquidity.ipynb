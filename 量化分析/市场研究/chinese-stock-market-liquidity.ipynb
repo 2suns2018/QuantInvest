{
 "cells": [
  {
   "cell_type": "markdown",
   "metadata": {},
   "source": [
    "![](https://fenc.wang/imgs/2020/08/3565654bfbe9ffa0.png)"
   ]
  },
  {
   "cell_type": "code",
   "execution_count": 59,
   "metadata": {},
   "outputs": [],
   "source": [
    "import tushare as ts\n",
    "import pandas as pd\n",
    "\n",
    "pro = ts.pro_api('xxxxxxxxxxxxxxxxxxxxxxxxxxxxxxxxxxxxxxxxxxx')"
   ]
  },
  {
   "cell_type": "markdown",
   "metadata": {},
   "source": [
    "## 计算科创板、其他板块成交金额只有5000万的企业比例"
   ]
  },
  {
   "cell_type": "code",
   "execution_count": 60,
   "metadata": {},
   "outputs": [],
   "source": [
    "# 获取单日整个A股市场的交易数据\n",
    "df = pro.daily(trade_date='20210526')\n",
    "#将成交金额变为以千万为单位\n",
    "df['amount'] = df['amount'].div(10)"
   ]
  },
  {
   "cell_type": "code",
   "execution_count": 61,
   "metadata": {},
   "outputs": [],
   "source": [
    "# 筛选科创板企业\n",
    "kcb = df[df['ts_code'].str.contains('688')]"
   ]
  },
  {
   "cell_type": "code",
   "execution_count": 62,
   "metadata": {},
   "outputs": [
    {
     "data": {
      "text/plain": [
       "286"
      ]
     },
     "execution_count": 62,
     "metadata": {},
     "output_type": "execute_result"
    }
   ],
   "source": [
    "# 计算总数\n",
    "kcb_amt = len(kcb['ts_code'])\n",
    "kcb_amt"
   ]
  },
  {
   "cell_type": "code",
   "execution_count": 63,
   "metadata": {},
   "outputs": [
    {
     "data": {
      "text/plain": [
       "0.45454545454545453"
      ]
     },
     "execution_count": 63,
     "metadata": {},
     "output_type": "execute_result"
    }
   ],
   "source": [
    "# 计算成交金额少于5千万的企业数\n",
    "kcb_lv = len(kcb[kcb['amount']<=5000])\n",
    "#计算比例\n",
    "kcb_lv_ratio = kcb_lv/kcb_amt\n",
    "kcb_lv_ratio"
   ]
  },
  {
   "cell_type": "code",
   "execution_count": 64,
   "metadata": {},
   "outputs": [
    {
     "data": {
      "text/plain": [
       "0.40492782478845196"
      ]
     },
     "execution_count": 64,
     "metadata": {},
     "output_type": "execute_result"
    }
   ],
   "source": [
    "# 筛选创业板、主板、中小板的企业\n",
    "rest = df[~df['ts_code'].str.contains('688')]\n",
    "#计算总数\n",
    "rest_amt = len(rest['ts_code'])\n",
    "# 计算成交金额少于5千万的企业数\n",
    "rest_lv = len(rest[rest['amount']<=5000])\n",
    "#计算比例\n",
    "rest_lv_ratio = rest_lv/rest_amt\n",
    "rest_lv_ratio"
   ]
  },
  {
   "cell_type": "markdown",
   "metadata": {},
   "source": [
    "## 科创板、其他板块不同成交金额对应的企业数"
   ]
  },
  {
   "cell_type": "code",
   "execution_count": 65,
   "metadata": {},
   "outputs": [],
   "source": [
    "bins = [0,3000,5000,10000,20000,50000,100000,200000,500000,1000000,1500000]"
   ]
  },
  {
   "cell_type": "code",
   "execution_count": 66,
   "metadata": {},
   "outputs": [
    {
     "data": {
      "text/html": [
       "<div>\n",
       "<style scoped>\n",
       "    .dataframe tbody tr th:only-of-type {\n",
       "        vertical-align: middle;\n",
       "    }\n",
       "\n",
       "    .dataframe tbody tr th {\n",
       "        vertical-align: top;\n",
       "    }\n",
       "\n",
       "    .dataframe thead th {\n",
       "        text-align: right;\n",
       "    }\n",
       "</style>\n",
       "<table border=\"1\" class=\"dataframe\">\n",
       "  <thead>\n",
       "    <tr style=\"text-align: right;\">\n",
       "      <th></th>\n",
       "      <th>kcb</th>\n",
       "      <th>rest</th>\n",
       "    </tr>\n",
       "  </thead>\n",
       "  <tbody>\n",
       "    <tr>\n",
       "      <th>(0, 3000]</th>\n",
       "      <td>81</td>\n",
       "      <td>1087</td>\n",
       "    </tr>\n",
       "    <tr>\n",
       "      <th>(3000, 5000]</th>\n",
       "      <td>49</td>\n",
       "      <td>540</td>\n",
       "    </tr>\n",
       "    <tr>\n",
       "      <th>(5000, 10000]</th>\n",
       "      <td>65</td>\n",
       "      <td>756</td>\n",
       "    </tr>\n",
       "    <tr>\n",
       "      <th>(10000, 20000]</th>\n",
       "      <td>51</td>\n",
       "      <td>649</td>\n",
       "    </tr>\n",
       "    <tr>\n",
       "      <th>(20000, 50000]</th>\n",
       "      <td>29</td>\n",
       "      <td>562</td>\n",
       "    </tr>\n",
       "    <tr>\n",
       "      <th>(50000, 100000]</th>\n",
       "      <td>8</td>\n",
       "      <td>255</td>\n",
       "    </tr>\n",
       "    <tr>\n",
       "      <th>(100000, 200000]</th>\n",
       "      <td>2</td>\n",
       "      <td>96</td>\n",
       "    </tr>\n",
       "    <tr>\n",
       "      <th>(200000, 500000]</th>\n",
       "      <td>1</td>\n",
       "      <td>60</td>\n",
       "    </tr>\n",
       "    <tr>\n",
       "      <th>(500000, 1000000]</th>\n",
       "      <td>0</td>\n",
       "      <td>13</td>\n",
       "    </tr>\n",
       "    <tr>\n",
       "      <th>(1000000, 1500000]</th>\n",
       "      <td>0</td>\n",
       "      <td>0</td>\n",
       "    </tr>\n",
       "  </tbody>\n",
       "</table>\n",
       "</div>"
      ],
      "text/plain": [
       "                    kcb  rest\n",
       "(0, 3000]            81  1087\n",
       "(3000, 5000]         49   540\n",
       "(5000, 10000]        65   756\n",
       "(10000, 20000]       51   649\n",
       "(20000, 50000]       29   562\n",
       "(50000, 100000]       8   255\n",
       "(100000, 200000]      2    96\n",
       "(200000, 500000]      1    60\n",
       "(500000, 1000000]     0    13\n",
       "(1000000, 1500000]    0     0"
      ]
     },
     "execution_count": 66,
     "metadata": {},
     "output_type": "execute_result"
    }
   ],
   "source": [
    "bins_df = pd.DataFrame()\n",
    "bins_df['kcb'] = pd.cut(kcb['amount'], bins=bins).value_counts()\n",
    "bins_df['rest'] = pd.cut(rest['amount'], bins=bins).value_counts()\n",
    "bins_df=bins_df.sort_index()\n",
    "bins_df"
   ]
  },
  {
   "cell_type": "code",
   "execution_count": 67,
   "metadata": {},
   "outputs": [
    {
     "data": {
      "text/html": [
       "<div>\n",
       "<style scoped>\n",
       "    .dataframe tbody tr th:only-of-type {\n",
       "        vertical-align: middle;\n",
       "    }\n",
       "\n",
       "    .dataframe tbody tr th {\n",
       "        vertical-align: top;\n",
       "    }\n",
       "\n",
       "    .dataframe thead th {\n",
       "        text-align: right;\n",
       "    }\n",
       "</style>\n",
       "<table border=\"1\" class=\"dataframe\">\n",
       "  <thead>\n",
       "    <tr style=\"text-align: right;\">\n",
       "      <th></th>\n",
       "      <th>kcb</th>\n",
       "      <th>rest</th>\n",
       "    </tr>\n",
       "  </thead>\n",
       "  <tbody>\n",
       "    <tr>\n",
       "      <th>(0, 3000]</th>\n",
       "      <td>28.32</td>\n",
       "      <td>27.05</td>\n",
       "    </tr>\n",
       "    <tr>\n",
       "      <th>(3000, 5000]</th>\n",
       "      <td>17.13</td>\n",
       "      <td>13.44</td>\n",
       "    </tr>\n",
       "    <tr>\n",
       "      <th>(5000, 10000]</th>\n",
       "      <td>22.73</td>\n",
       "      <td>18.82</td>\n",
       "    </tr>\n",
       "    <tr>\n",
       "      <th>(10000, 20000]</th>\n",
       "      <td>17.83</td>\n",
       "      <td>16.15</td>\n",
       "    </tr>\n",
       "    <tr>\n",
       "      <th>(20000, 50000]</th>\n",
       "      <td>10.14</td>\n",
       "      <td>13.99</td>\n",
       "    </tr>\n",
       "    <tr>\n",
       "      <th>(50000, 100000]</th>\n",
       "      <td>2.80</td>\n",
       "      <td>6.35</td>\n",
       "    </tr>\n",
       "    <tr>\n",
       "      <th>(100000, 200000]</th>\n",
       "      <td>0.70</td>\n",
       "      <td>2.39</td>\n",
       "    </tr>\n",
       "    <tr>\n",
       "      <th>(200000, 500000]</th>\n",
       "      <td>0.35</td>\n",
       "      <td>1.49</td>\n",
       "    </tr>\n",
       "    <tr>\n",
       "      <th>(500000, 1000000]</th>\n",
       "      <td>0.00</td>\n",
       "      <td>0.32</td>\n",
       "    </tr>\n",
       "    <tr>\n",
       "      <th>(1000000, 1500000]</th>\n",
       "      <td>0.00</td>\n",
       "      <td>0.00</td>\n",
       "    </tr>\n",
       "  </tbody>\n",
       "</table>\n",
       "</div>"
      ],
      "text/plain": [
       "                     kcb  rest\n",
       "(0, 3000]          28.32 27.05\n",
       "(3000, 5000]       17.13 13.44\n",
       "(5000, 10000]      22.73 18.82\n",
       "(10000, 20000]     17.83 16.15\n",
       "(20000, 50000]     10.14 13.99\n",
       "(50000, 100000]     2.80  6.35\n",
       "(100000, 200000]    0.70  2.39\n",
       "(200000, 500000]    0.35  1.49\n",
       "(500000, 1000000]   0.00  0.32\n",
       "(1000000, 1500000]  0.00  0.00"
      ]
     },
     "execution_count": 67,
     "metadata": {},
     "output_type": "execute_result"
    }
   ],
   "source": [
    "(bins_df/bins_df.sum())*100"
   ]
  },
  {
   "cell_type": "markdown",
   "metadata": {},
   "source": [
    "![](https://fenc.wang/imgs/2020/08/3565654bfbe9ffa0.png)"
   ]
  },
  {
   "cell_type": "code",
   "execution_count": null,
   "metadata": {},
   "outputs": [],
   "source": []
  }
 ],
 "metadata": {
  "kernelspec": {
   "display_name": "Python 3",
   "language": "python",
   "name": "python3"
  },
  "language_info": {
   "codemirror_mode": {
    "name": "ipython",
    "version": 3
   },
   "file_extension": ".py",
   "mimetype": "text/x-python",
   "name": "python",
   "nbconvert_exporter": "python",
   "pygments_lexer": "ipython3",
   "version": "3.8.7"
  }
 },
 "nbformat": 4,
 "nbformat_minor": 4
}
