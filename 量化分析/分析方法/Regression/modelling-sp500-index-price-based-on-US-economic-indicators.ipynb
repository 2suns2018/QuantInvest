{
 "cells": [
  {
   "cell_type": "markdown",
   "id": "0aa8c164-afb4-48c2-95d6-7e819f9e0ea2",
   "metadata": {},
   "source": [
    "# 预测SP500指数走势\n",
    "\n",
    "## 一、前言\n",
    "- 作者：Griddb\n",
    "- 标题：Modelling S&P 500 Index Price Based on U.S. Economic Indicators using Python and GridDB\n",
    "- 目的：**利用机器学习中的Regression Model 基于美国经济指标预测SP500走势**\n",
    "- 原文地址：https://griddb.net/en/blog/modelling-sp-500-index-price-based-on-u-s-economic-indicators-using-python-and-griddb/\n",
    "- 源码地址：无\n",
    "- 数据源： `finance.yahoo.com` and `fred.stlouisfed.org`\n",
    "\n",
    "**声明**\n",
    "- 本文只是出于学习的目的将其翻译成中文并附上一定的注释，并没有打算将其用作盈利的目的。\n",
    "- 原文并没有提供原始数据集，我通过作者提供的数据出处，收集数据并清洗后放在文件夹中\n",
    "- 由于yahoo finance上获取的SP500 index数据只有1985年打后的，所以跟原文的数据有一点出入\n",
    "- 这里没有使用GridDB数据库，而是直接通过csv格式读取数据\n",
    "- 数据集的获取方式放到文章的最后\n",
    "\n",
    "## 二、研究目的\n",
    "经济指标已被用于许多的研究当中，而且很多的统计方法都结合了这些数据用于预测股票价格。本文的目的是根据美国经济指标对标准普尔500指数的月度价格进行建模， 然后执行统计测试，最后构建机器学习模型。\n",
    "\n",
    "## 三、数据指标处理\n",
    "对于SP500指数来说，对其影响最大的指标可归纳为以下类别：一般宏观经济指标，劳动力市场指标（失业率和就业报告），房地产指标，信贷市场指标，货币供应指标，消费者（家庭）金融行为指标和商品市场指标。\n",
    "- 数据周期为 1985-01-01 至 2022-06-01 之间\n",
    "- SP500指数收盘价和美国经济指标数据频率均为月度\n",
    "\n",
    "数据集各变量（指标）的描述：\n",
    "\n",
    "- 标准普尔500指数各月价格（单位：美元）`SP500`\n",
    "- 利率，美国贴现率（单位：每年百分比）`INTDSRUSM193N`\n",
    "- 商业和工业贷款，所有商业银行（单位：数十亿美元）`BUSLOANS`\n",
    "- 银行优惠贷款利率（单位：百分比）`MPRIME`\n",
    "- 联邦基金有效利率（联邦基金利率是存款机构隔夜交易联邦资金的利率。（单位：百分比）`FEDFUNDS`\n",
    "- 流通中的货币（单位：数十亿美元）`CURRCIR`\n",
    "- 个人储蓄率（个人储蓄占个人可支配收入（DPI）的百分比，通常称为“个人储蓄率”，计算为个人储蓄与DPI的比率。（单位：百分比）`PSAVERT`\n",
    "- 在许可证发放地点授权的新私人住房单位：总单位（单位：数十亿美元）`PERMIT`\n",
    "- 工业生产：总指数（工业生产指数（INDPRO）是衡量位于美国制造业，采矿业，电力和天然气公用事业的所有设施的实际产出的经济指标）（单位：指数2017 = 100）`INDPRO`\n",
    "- 个人储蓄（单位：数十亿美元）`PMSAVE`\n",
    "- 机动车零售：国内汽车 （单位：百万辆）`DAUTOSAAR`\n",
    "- 失业水平 （单位： 数千人）`UNEMPLOY`\n",
    "- 所有城市居民消费价格指数：美国城市平均值的所有项目（单位：指数1982-1984=100）`CPIAUCSL`\n",
    "\n",
    "上述数据集除了SP500之外，都可以单独从`fred.stlouisfed.org`上免费下载得到；而SP500可以从需要从`finance.yahoo.com`上下载，由于yahoo已经不再提供免费下载，所以要通过`yfinance`库获取，具体方法在文章结尾。"
   ]
  },
  {
   "cell_type": "code",
   "execution_count": 1,
   "id": "6a53f4fe-29f4-4c57-a0fe-24ddf5728dac",
   "metadata": {},
   "outputs": [],
   "source": [
    "import numpy as np\n",
    "import pandas as pd\n",
    "import matplotlib.pyplot as plt\n",
    "import datetime\n",
    "\n",
    "import statsmodels.api as sm\n",
    "from statsmodels.stats.outliers_influence import variance_inflation_factor\n",
    "\n",
    "from sklearn.model_selection import train_test_split\n",
    "from sklearn.linear_model import LinearRegression\n",
    "from sklearn.ensemble import RandomForestRegressor\n",
    "from sklearn.metrics import r2_score\n",
    "from sklearn.metrics import mean_squared_error\n",
    "\n",
    "import warnings\n",
    "warnings.filterwarnings('ignore')\n",
    "%matplotlib inline"
   ]
  },
  {
   "cell_type": "markdown",
   "id": "8fb5b1e1-635e-4cc0-b7db-0af6ab7b9a93",
   "metadata": {},
   "source": [
    "## 四、数据探索"
   ]
  },
  {
   "cell_type": "code",
   "execution_count": 10,
   "id": "0fe64232-8826-4720-9194-7fd5261eec24",
   "metadata": {},
   "outputs": [],
   "source": [
    "us_economic_data = pd.read_csv('us_economic_data.csv')"
   ]
  },
  {
   "cell_type": "code",
   "execution_count": 11,
   "id": "6b40f634-63d5-4413-9420-fb8b98750daf",
   "metadata": {},
   "outputs": [
    {
     "data": {
      "text/html": [
       "<div><div id=91d2a087-e8e6-4468-bdfa-699208b995c5 style=\"display:none; background-color:#9D6CFF; color:white; width:200px; height:30px; padding-left:5px; border-radius:4px; flex-direction:row; justify-content:space-around; align-items:center;\" onmouseover=\"this.style.backgroundColor='#BA9BF8'\" onmouseout=\"this.style.backgroundColor='#9D6CFF'\" onclick=\"window.commands?.execute('create-mitosheet-from-dataframe-output');\">See Full Dataframe in Mito</div> <script> if (window.commands.hasCommand('create-mitosheet-from-dataframe-output')) document.getElementById('91d2a087-e8e6-4468-bdfa-699208b995c5').style.display = 'flex' </script> <table border=\"1\" class=\"dataframe\">\n",
       "  <thead>\n",
       "    <tr style=\"text-align: right;\">\n",
       "      <th></th>\n",
       "      <th>DATE</th>\n",
       "      <th>SP500</th>\n",
       "      <th>PERMIT</th>\n",
       "      <th>INDPRO</th>\n",
       "      <th>FEDFUNDS</th>\n",
       "      <th>PSAVERT</th>\n",
       "      <th>CURRCIR</th>\n",
       "      <th>MPRIME</th>\n",
       "      <th>BUSLOANS</th>\n",
       "      <th>INTDSRUSM193N</th>\n",
       "      <th>DAUTOSAAR</th>\n",
       "      <th>CPIAUCSL</th>\n",
       "      <th>UNEMPLOY</th>\n",
       "      <th>PMSAVE</th>\n",
       "    </tr>\n",
       "  </thead>\n",
       "  <tbody>\n",
       "    <tr>\n",
       "      <th>0</th>\n",
       "      <td>1985-01-01</td>\n",
       "      <td>179.630005</td>\n",
       "      <td>1660.0</td>\n",
       "      <td>54.7203</td>\n",
       "      <td>8.35</td>\n",
       "      <td>10.3</td>\n",
       "      <td>180.656</td>\n",
       "      <td>10.61</td>\n",
       "      <td>472.9593</td>\n",
       "      <td>8.00</td>\n",
       "      <td>8.244</td>\n",
       "      <td>105.7</td>\n",
       "      <td>8423</td>\n",
       "      <td>312.2</td>\n",
       "    </tr>\n",
       "    <tr>\n",
       "      <th>1</th>\n",
       "      <td>1985-02-01</td>\n",
       "      <td>181.179993</td>\n",
       "      <td>1662.0</td>\n",
       "      <td>54.9100</td>\n",
       "      <td>8.50</td>\n",
       "      <td>9.1</td>\n",
       "      <td>178.242</td>\n",
       "      <td>10.50</td>\n",
       "      <td>475.6222</td>\n",
       "      <td>8.00</td>\n",
       "      <td>8.308</td>\n",
       "      <td>106.3</td>\n",
       "      <td>8321</td>\n",
       "      <td>273.6</td>\n",
       "    </tr>\n",
       "    <tr>\n",
       "      <th>2</th>\n",
       "      <td>1985-03-01</td>\n",
       "      <td>180.660004</td>\n",
       "      <td>1727.0</td>\n",
       "      <td>54.9841</td>\n",
       "      <td>8.58</td>\n",
       "      <td>8.7</td>\n",
       "      <td>179.037</td>\n",
       "      <td>10.50</td>\n",
       "      <td>480.2038</td>\n",
       "      <td>8.00</td>\n",
       "      <td>8.380</td>\n",
       "      <td>106.8</td>\n",
       "      <td>8339</td>\n",
       "      <td>262.2</td>\n",
       "    </tr>\n",
       "    <tr>\n",
       "      <th>3</th>\n",
       "      <td>1985-04-01</td>\n",
       "      <td>179.830002</td>\n",
       "      <td>1664.0</td>\n",
       "      <td>54.8853</td>\n",
       "      <td>8.27</td>\n",
       "      <td>9.9</td>\n",
       "      <td>180.854</td>\n",
       "      <td>10.50</td>\n",
       "      <td>478.9746</td>\n",
       "      <td>8.00</td>\n",
       "      <td>8.474</td>\n",
       "      <td>107.0</td>\n",
       "      <td>8395</td>\n",
       "      <td>304.7</td>\n",
       "    </tr>\n",
       "    <tr>\n",
       "      <th>4</th>\n",
       "      <td>1985-05-01</td>\n",
       "      <td>189.550003</td>\n",
       "      <td>1709.0</td>\n",
       "      <td>54.9520</td>\n",
       "      <td>7.97</td>\n",
       "      <td>11.1</td>\n",
       "      <td>182.460</td>\n",
       "      <td>10.31</td>\n",
       "      <td>480.7533</td>\n",
       "      <td>7.81</td>\n",
       "      <td>8.227</td>\n",
       "      <td>107.2</td>\n",
       "      <td>8302</td>\n",
       "      <td>349.5</td>\n",
       "    </tr>\n",
       "  </tbody>\n",
       "</table></div>"
      ],
      "text/plain": [
       "         DATE       SP500  PERMIT   INDPRO  FEDFUNDS  PSAVERT  CURRCIR  \\\n",
       "0  1985-01-01  179.630005  1660.0  54.7203      8.35     10.3  180.656   \n",
       "1  1985-02-01  181.179993  1662.0  54.9100      8.50      9.1  178.242   \n",
       "2  1985-03-01  180.660004  1727.0  54.9841      8.58      8.7  179.037   \n",
       "3  1985-04-01  179.830002  1664.0  54.8853      8.27      9.9  180.854   \n",
       "4  1985-05-01  189.550003  1709.0  54.9520      7.97     11.1  182.460   \n",
       "\n",
       "   MPRIME  BUSLOANS  INTDSRUSM193N  DAUTOSAAR  CPIAUCSL  UNEMPLOY  PMSAVE  \n",
       "0   10.61  472.9593           8.00      8.244     105.7      8423   312.2  \n",
       "1   10.50  475.6222           8.00      8.308     106.3      8321   273.6  \n",
       "2   10.50  480.2038           8.00      8.380     106.8      8339   262.2  \n",
       "3   10.50  478.9746           8.00      8.474     107.0      8395   304.7  \n",
       "4   10.31  480.7533           7.81      8.227     107.2      8302   349.5  "
      ]
     },
     "execution_count": 11,
     "metadata": {},
     "output_type": "execute_result"
    }
   ],
   "source": [
    "us_economic_data.head()"
   ]
  },
  {
   "cell_type": "code",
   "execution_count": 12,
   "id": "db53bba7-41f6-474b-872e-ba75a82875bc",
   "metadata": {},
   "outputs": [
    {
     "data": {
      "text/html": [
       "<div><div id=968e1279-657d-48eb-bb3e-7704c6388cf5 style=\"display:none; background-color:#9D6CFF; color:white; width:200px; height:30px; padding-left:5px; border-radius:4px; flex-direction:row; justify-content:space-around; align-items:center;\" onmouseover=\"this.style.backgroundColor='#BA9BF8'\" onmouseout=\"this.style.backgroundColor='#9D6CFF'\" onclick=\"window.commands?.execute('create-mitosheet-from-dataframe-output');\">See Full Dataframe in Mito</div> <script> if (window.commands.hasCommand('create-mitosheet-from-dataframe-output')) document.getElementById('968e1279-657d-48eb-bb3e-7704c6388cf5').style.display = 'flex' </script> <table border=\"1\" class=\"dataframe\">\n",
       "  <thead>\n",
       "    <tr style=\"text-align: right;\">\n",
       "      <th></th>\n",
       "      <th>SP500</th>\n",
       "      <th>PERMIT</th>\n",
       "      <th>INDPRO</th>\n",
       "      <th>FEDFUNDS</th>\n",
       "      <th>PSAVERT</th>\n",
       "      <th>CURRCIR</th>\n",
       "      <th>MPRIME</th>\n",
       "      <th>BUSLOANS</th>\n",
       "      <th>INTDSRUSM193N</th>\n",
       "      <th>DAUTOSAAR</th>\n",
       "      <th>CPIAUCSL</th>\n",
       "      <th>UNEMPLOY</th>\n",
       "      <th>PMSAVE</th>\n",
       "    </tr>\n",
       "    <tr>\n",
       "      <th>DATE</th>\n",
       "      <th></th>\n",
       "      <th></th>\n",
       "      <th></th>\n",
       "      <th></th>\n",
       "      <th></th>\n",
       "      <th></th>\n",
       "      <th></th>\n",
       "      <th></th>\n",
       "      <th></th>\n",
       "      <th></th>\n",
       "      <th></th>\n",
       "      <th></th>\n",
       "      <th></th>\n",
       "    </tr>\n",
       "  </thead>\n",
       "  <tbody>\n",
       "    <tr>\n",
       "      <th>1985-01-01</th>\n",
       "      <td>179.630005</td>\n",
       "      <td>1660.0</td>\n",
       "      <td>54.7203</td>\n",
       "      <td>8.35</td>\n",
       "      <td>10.3</td>\n",
       "      <td>180.656</td>\n",
       "      <td>10.61</td>\n",
       "      <td>472.9593</td>\n",
       "      <td>8.00</td>\n",
       "      <td>8.244</td>\n",
       "      <td>105.7</td>\n",
       "      <td>8423</td>\n",
       "      <td>312.2</td>\n",
       "    </tr>\n",
       "    <tr>\n",
       "      <th>1985-02-01</th>\n",
       "      <td>181.179993</td>\n",
       "      <td>1662.0</td>\n",
       "      <td>54.9100</td>\n",
       "      <td>8.50</td>\n",
       "      <td>9.1</td>\n",
       "      <td>178.242</td>\n",
       "      <td>10.50</td>\n",
       "      <td>475.6222</td>\n",
       "      <td>8.00</td>\n",
       "      <td>8.308</td>\n",
       "      <td>106.3</td>\n",
       "      <td>8321</td>\n",
       "      <td>273.6</td>\n",
       "    </tr>\n",
       "    <tr>\n",
       "      <th>1985-03-01</th>\n",
       "      <td>180.660004</td>\n",
       "      <td>1727.0</td>\n",
       "      <td>54.9841</td>\n",
       "      <td>8.58</td>\n",
       "      <td>8.7</td>\n",
       "      <td>179.037</td>\n",
       "      <td>10.50</td>\n",
       "      <td>480.2038</td>\n",
       "      <td>8.00</td>\n",
       "      <td>8.380</td>\n",
       "      <td>106.8</td>\n",
       "      <td>8339</td>\n",
       "      <td>262.2</td>\n",
       "    </tr>\n",
       "    <tr>\n",
       "      <th>1985-04-01</th>\n",
       "      <td>179.830002</td>\n",
       "      <td>1664.0</td>\n",
       "      <td>54.8853</td>\n",
       "      <td>8.27</td>\n",
       "      <td>9.9</td>\n",
       "      <td>180.854</td>\n",
       "      <td>10.50</td>\n",
       "      <td>478.9746</td>\n",
       "      <td>8.00</td>\n",
       "      <td>8.474</td>\n",
       "      <td>107.0</td>\n",
       "      <td>8395</td>\n",
       "      <td>304.7</td>\n",
       "    </tr>\n",
       "    <tr>\n",
       "      <th>1985-05-01</th>\n",
       "      <td>189.550003</td>\n",
       "      <td>1709.0</td>\n",
       "      <td>54.9520</td>\n",
       "      <td>7.97</td>\n",
       "      <td>11.1</td>\n",
       "      <td>182.460</td>\n",
       "      <td>10.31</td>\n",
       "      <td>480.7533</td>\n",
       "      <td>7.81</td>\n",
       "      <td>8.227</td>\n",
       "      <td>107.2</td>\n",
       "      <td>8302</td>\n",
       "      <td>349.5</td>\n",
       "    </tr>\n",
       "  </tbody>\n",
       "</table></div>"
      ],
      "text/plain": [
       "                 SP500  PERMIT   INDPRO  FEDFUNDS  PSAVERT  CURRCIR  MPRIME  \\\n",
       "DATE                                                                          \n",
       "1985-01-01  179.630005  1660.0  54.7203      8.35     10.3  180.656   10.61   \n",
       "1985-02-01  181.179993  1662.0  54.9100      8.50      9.1  178.242   10.50   \n",
       "1985-03-01  180.660004  1727.0  54.9841      8.58      8.7  179.037   10.50   \n",
       "1985-04-01  179.830002  1664.0  54.8853      8.27      9.9  180.854   10.50   \n",
       "1985-05-01  189.550003  1709.0  54.9520      7.97     11.1  182.460   10.31   \n",
       "\n",
       "            BUSLOANS  INTDSRUSM193N  DAUTOSAAR  CPIAUCSL  UNEMPLOY  PMSAVE  \n",
       "DATE                                                                        \n",
       "1985-01-01  472.9593           8.00      8.244     105.7      8423   312.2  \n",
       "1985-02-01  475.6222           8.00      8.308     106.3      8321   273.6  \n",
       "1985-03-01  480.2038           8.00      8.380     106.8      8339   262.2  \n",
       "1985-04-01  478.9746           8.00      8.474     107.0      8395   304.7  \n",
       "1985-05-01  480.7533           7.81      8.227     107.2      8302   349.5  "
      ]
     },
     "execution_count": 12,
     "metadata": {},
     "output_type": "execute_result"
    }
   ],
   "source": [
    "# Changing the column name and then setting the date as an index od the dataframe\n",
    "df = us_economic_data\n",
    "df['DATE'] = pd.to_datetime(df['DATE'])\n",
    "df = df.set_index('DATE')\n",
    "df.head()"
   ]
  },
  {
   "cell_type": "markdown",
   "id": "0137d003-7dc7-4dcd-84b3-46f1a989fd97",
   "metadata": {},
   "source": [
    "````{margin}\n",
    "Augmented Dickey-Fuller Test 是一种统计学的检测方法，用于检测一个有某种趋势的时间序列的平稳性。是一种重要的单根检测方法。\n",
    "\n",
    "其初始假设null hypothesis是该序列不稳定，检测可以有两种途径，一是统计量小于特定拒绝域值；二是p-value大于相应域值。如果是，则拒绝假设，认为序列是稳定的。\n",
    "````\n",
    "\n",
    "我们执行了Augmented Dickey-Fuller来确定SP500指数收盘价是否具有平稳性。之后我们对收盘价和每个自变量（经济指标）之间的数据进行可视化，以确定变量（经济指标）之间是否存在线性关系，从而仅选择其具有那些具有线性关系的变量用作建模。\n",
    "\n",
    "其次，我们需要使用VIF测试检查自变量（经济指标）之间是否相互关联。最后，由于指标是在不同的统计范围上测量的，因此使用z score标准对数据进行了归一化，以产生准确可靠的模式。"
   ]
  },
  {
   "cell_type": "code",
   "execution_count": 13,
   "id": "c64fa377-2d1d-44fd-8732-01cdaeeca29b",
   "metadata": {},
   "outputs": [
    {
     "data": {
      "image/png": "[encoded data removed]",
      "text/plain": [
       "<Figure size 864x504 with 1 Axes>"
      ]
     },
     "metadata": {
      "needs_background": "light"
     },
     "output_type": "display_data"
    },
    {
     "data": {
      "image/png": "[encoded data removed]",
      "text/plain": [
       "<Figure size 864x504 with 1 Axes>"
      ]
     },
     "metadata": {
      "needs_background": "light"
     },
     "output_type": "display_data"
    }
   ],
   "source": [
    "def tsplot(y, figsize=(12, 7), syle='bmh'):\n",
    "    \n",
    "    if not isinstance(y, pd.Series):\n",
    "        y = pd.Series(y)\n",
    "        \n",
    "    with plt.style.context(style='bmh'):\n",
    "        fig = plt.figure(figsize=figsize)\n",
    "        layout = (2,1)\n",
    "        ts_ax = plt.subplot2grid(layout, (0,0), colspan=2)\n",
    "        y.plot(ax=ts_ax)\n",
    "        p_value = sm.tsa.stattools.adfuller(y)[1]\n",
    "        ts_ax.set_title('Time Series Analysis Plots\\n Dickey-Fuller: p={0:.5f}'.format(p_value))\n",
    "\n",
    "        plt.tight_layout()\n",
    "        \n",
    "tsplot(df['SP500'])\n",
    "\n",
    "data_diff = df['SP500'] - df['SP500'].shift(1)\n",
    "\n",
    "tsplot(data_diff[1:])"
   ]
  },
  {
   "cell_type": "markdown",
   "id": "688059b9-0123-4ee7-8ad7-4b95f65746b4",
   "metadata": {},
   "source": [
    "````{margin}\n",
    "方差扩大因子(variance inflation factor)简称VIF，是表征自变数观察值之间复共线性程度的数值。\n",
    "````\n",
    "\n",
    "如果我们在Dickey Fuller Test的假设中取5%作为置信水平，我们可以看到值远大于0.05，因此可以判断SP500是不具备平稳性的。\n",
    "\n",
    "为了使数据保持平稳，有必要创建一个新的因变量，该因变量是根据当前每月价格减去上个月的价格计算得出的。在这种情况下，重新计算前面提到的测试，并且发现数据是平稳的，因为p-value显示为0。\n",
    "\n",
    "下一步是找出自变量是否彼此不相关。为此选择了 VIF（Variance Inflating factor, 方差膨胀因子）测试。方差膨胀因子 （VIF） 用于检验回归模型中是否存在多重共线性。"
   ]
  },
  {
   "cell_type": "code",
   "execution_count": 14,
   "id": "1b91bf6e-edca-4ff1-a845-9892ef68e7e0",
   "metadata": {},
   "outputs": [
    {
     "data": {
      "text/plain": [
       "Index(['SP500', 'PERMIT', 'INDPRO', 'FEDFUNDS', 'PSAVERT', 'CURRCIR', 'MPRIME',\n",
       "       'BUSLOANS', 'INTDSRUSM193N', 'DAUTOSAAR', 'CPIAUCSL', 'UNEMPLOY',\n",
       "       'PMSAVE'],\n",
       "      dtype='object')"
      ]
     },
     "execution_count": 14,
     "metadata": {},
     "output_type": "execute_result"
    }
   ],
   "source": [
    "df.columns"
   ]
  },
  {
   "cell_type": "code",
   "execution_count": 15,
   "id": "5a78c8a3-4f72-4251-912a-1542c8c4e3be",
   "metadata": {},
   "outputs": [
    {
     "name": "stdout",
     "output_type": "stream",
     "text": [
      "          feature          VIF\n",
      "0   INTDSRUSM193N    97.796219\n",
      "1        BUSLOANS   182.967472\n",
      "2          MPRIME   694.827208\n",
      "3        FEDFUNDS   327.213964\n",
      "4         CURRCIR   365.219235\n",
      "5         PSAVERT    91.198794\n",
      "6          PMSAVE    40.048740\n",
      "7       DAUTOSAAR    63.977266\n",
      "8        UNEMPLOY    62.133967\n",
      "9          INDPRO  1337.341806\n",
      "10         PERMIT    37.411240\n",
      "11       CPIAUCSL  3058.034391\n"
     ]
    }
   ],
   "source": [
    "# the independent variables set\n",
    "X = df[['INTDSRUSM193N', 'BUSLOANS', 'MPRIME', 'FEDFUNDS', 'CURRCIR',\n",
    "       'PSAVERT', 'PMSAVE', 'DAUTOSAAR', 'UNEMPLOY', 'INDPRO', 'PERMIT',\n",
    "       'CPIAUCSL']]\n",
    "  \n",
    "# VIF dataframe\n",
    "vif_data = pd.DataFrame()\n",
    "vif_data[\"feature\"] = X.columns\n",
    "  \n",
    "# calculating VIF for each feature\n",
    "vif_data[\"VIF\"] = [variance_inflation_factor(X.values, i)\n",
    "                          for i in range(len(X.columns))]\n",
    "  \n",
    "print(vif_data)"
   ]
  },
  {
   "cell_type": "markdown",
   "id": "ddaef966-13ad-4806-8420-ffc8fb640e1e",
   "metadata": {},
   "source": [
    "从上述表中可以看出，每个变量的 VIF 测试值远高于 10。在这种情况下，具有最高 VIF 值的指标将被删除，并重新计算整个集合。只要值小于 10 的所有变量都保留下来。"
   ]
  },
  {
   "cell_type": "code",
   "execution_count": 16,
   "id": "107bf568-29e0-4669-93f0-80493e7c6631",
   "metadata": {},
   "outputs": [
    {
     "name": "stdout",
     "output_type": "stream",
     "text": [
      "    feature        VIF\n",
      "0  FEDFUNDS   6.149062\n",
      "1   CURRCIR   7.253224\n",
      "2   PSAVERT   7.123685\n",
      "3    PERMIT  10.382944\n"
     ]
    }
   ],
   "source": [
    "# the independent variables set\n",
    "X = df[[  'FEDFUNDS', 'CURRCIR','PSAVERT', 'PERMIT',]]\n",
    "  \n",
    "# VIF dataframe\n",
    "vif_data = pd.DataFrame()\n",
    "vif_data[\"feature\"] = X.columns\n",
    "  \n",
    "# calculating VIF for each feature\n",
    "vif_data[\"VIF\"] = [variance_inflation_factor(X.values, i)\n",
    "                          for i in range(len(X.columns))]\n",
    "  \n",
    "print(vif_data)"
   ]
  },
  {
   "cell_type": "markdown",
   "id": "f49fa7ed-7a53-4231-a9f6-14d9392938d1",
   "metadata": {},
   "source": [
    "我们发现其中 11 个经济指标不符合线性回归规则。\n",
    "\n",
    "我们这阶段最后一步就是将这 3 个指标与SP500价格指数整合在一起，并根据z score标准对其进行标准化。\n"
   ]
  },
  {
   "cell_type": "code",
   "execution_count": 17,
   "id": "fe5e3966-bc85-4821-81cc-2b861f561168",
   "metadata": {},
   "outputs": [],
   "source": [
    "df_new = df[['SP500','FEDFUNDS','CURRCIR','PSAVERT','PERMIT']]"
   ]
  },
  {
   "cell_type": "code",
   "execution_count": 18,
   "id": "65f3ea4b-6e8b-4aeb-8ab8-a5088ff254ae",
   "metadata": {},
   "outputs": [
    {
     "data": {
      "text/html": [
       "<div><div id=cc9d960a-33df-42cd-9d02-95be41349c11 style=\"display:none; background-color:#9D6CFF; color:white; width:200px; height:30px; padding-left:5px; border-radius:4px; flex-direction:row; justify-content:space-around; align-items:center;\" onmouseover=\"this.style.backgroundColor='#BA9BF8'\" onmouseout=\"this.style.backgroundColor='#9D6CFF'\" onclick=\"window.commands?.execute('create-mitosheet-from-dataframe-output');\">See Full Dataframe in Mito</div> <script> if (window.commands.hasCommand('create-mitosheet-from-dataframe-output')) document.getElementById('cc9d960a-33df-42cd-9d02-95be41349c11').style.display = 'flex' </script> <table border=\"1\" class=\"dataframe\">\n",
       "  <thead>\n",
       "    <tr style=\"text-align: right;\">\n",
       "      <th></th>\n",
       "      <th>SP500</th>\n",
       "      <th>FEDFUNDS</th>\n",
       "      <th>CURRCIR</th>\n",
       "      <th>PSAVERT</th>\n",
       "      <th>PERMIT</th>\n",
       "    </tr>\n",
       "    <tr>\n",
       "      <th>DATE</th>\n",
       "      <th></th>\n",
       "      <th></th>\n",
       "      <th></th>\n",
       "      <th></th>\n",
       "      <th></th>\n",
       "    </tr>\n",
       "  </thead>\n",
       "  <tbody>\n",
       "    <tr>\n",
       "      <th>1985-01-01</th>\n",
       "      <td>-1.207185</td>\n",
       "      <td>1.749872</td>\n",
       "      <td>-1.190784</td>\n",
       "      <td>1.118462</td>\n",
       "      <td>0.751727</td>\n",
       "    </tr>\n",
       "    <tr>\n",
       "      <th>1985-02-01</th>\n",
       "      <td>-1.205417</td>\n",
       "      <td>1.803265</td>\n",
       "      <td>-1.195481</td>\n",
       "      <td>0.702642</td>\n",
       "      <td>0.756793</td>\n",
       "    </tr>\n",
       "    <tr>\n",
       "      <th>1985-03-01</th>\n",
       "      <td>-1.206010</td>\n",
       "      <td>1.831741</td>\n",
       "      <td>-1.193934</td>\n",
       "      <td>0.564035</td>\n",
       "      <td>0.921442</td>\n",
       "    </tr>\n",
       "    <tr>\n",
       "      <th>1985-04-01</th>\n",
       "      <td>-1.206957</td>\n",
       "      <td>1.721396</td>\n",
       "      <td>-1.190398</td>\n",
       "      <td>0.979855</td>\n",
       "      <td>0.761859</td>\n",
       "    </tr>\n",
       "    <tr>\n",
       "      <th>1985-05-01</th>\n",
       "      <td>-1.195873</td>\n",
       "      <td>1.614611</td>\n",
       "      <td>-1.187274</td>\n",
       "      <td>1.395675</td>\n",
       "      <td>0.875847</td>\n",
       "    </tr>\n",
       "  </tbody>\n",
       "</table></div>"
      ],
      "text/plain": [
       "               SP500  FEDFUNDS   CURRCIR   PSAVERT    PERMIT\n",
       "DATE                                                        \n",
       "1985-01-01 -1.207185  1.749872 -1.190784  1.118462  0.751727\n",
       "1985-02-01 -1.205417  1.803265 -1.195481  0.702642  0.756793\n",
       "1985-03-01 -1.206010  1.831741 -1.193934  0.564035  0.921442\n",
       "1985-04-01 -1.206957  1.721396 -1.190398  0.979855  0.761859\n",
       "1985-05-01 -1.195873  1.614611 -1.187274  1.395675  0.875847"
      ]
     },
     "execution_count": 18,
     "metadata": {},
     "output_type": "execute_result"
    }
   ],
   "source": [
    "df_z_scaled = df_new.copy()\n",
    "  \n",
    "# apply normalization techniques\n",
    "for column in df_z_scaled.columns:\n",
    "    df_z_scaled[column] = (df_z_scaled[column] -\n",
    "                           df_z_scaled[column].mean()) / df_z_scaled[column].std()    \n",
    "  \n",
    "# view normalized data   \n",
    "df_z_scaled.head()"
   ]
  },
  {
   "cell_type": "markdown",
   "id": "89e6b321-870e-41be-9fcb-0a36300278f0",
   "metadata": {},
   "source": [
    "## 五、建模\n",
    "现在，让我们继续在数据集上构建和评估机器学习模型。我们将首先为模型创建 `features` 和 `labels`，并将它们拆分为训练和测试示例。测试大小已保留为总数据集大小的 20%。"
   ]
  },
  {
   "cell_type": "code",
   "execution_count": 19,
   "id": "544cf844-ab59-4b03-8a5d-03a0bb81fbe7",
   "metadata": {},
   "outputs": [],
   "source": [
    "features = df_z_scaled.drop(columns = ['SP500'], axis = 1)\n",
    "labels = df_z_scaled[['SP500']]\n",
    "\n",
    "X_train, X_test, y_train, y_test = train_test_split(features, labels, test_size = 0.2, random_state = 0)"
   ]
  },
  {
   "cell_type": "code",
   "execution_count": 20,
   "id": "51172605-93fa-40d4-8867-34d971306000",
   "metadata": {},
   "outputs": [
    {
     "name": "stdout",
     "output_type": "stream",
     "text": [
      "Shape of training data: (352, 4)\n",
      "Shape of the training target data: (352, 1)\n",
      "Shape of test data: (88, 4)\n",
      "Shape of the test target data: (88, 1)\n"
     ]
    }
   ],
   "source": [
    "print(f\"Shape of training data: {X_train.shape}\")\n",
    "print(f\"Shape of the training target data: {y_train.shape}\")\n",
    "\n",
    "print(f\"Shape of test data: {X_test.shape}\")\n",
    "print(f\"Shape of the test target data: {y_test.shape}\")"
   ]
  },
  {
   "cell_type": "markdown",
   "id": "ac0d4404-1003-4fdb-8182-3e2969efb014",
   "metadata": {},
   "source": [
    "### （1）Linear Regression"
   ]
  },
  {
   "cell_type": "code",
   "execution_count": 21,
   "id": "c95adcad-f558-4c44-a9ef-d3fe08dc7a3f",
   "metadata": {},
   "outputs": [
    {
     "name": "stdout",
     "output_type": "stream",
     "text": [
      "0.9543343215374887\n"
     ]
    }
   ],
   "source": [
    "regr = LinearRegression()\n",
    "  \n",
    "regr.fit(X_train, y_train)\n",
    "print(regr.score(X_test, y_test))"
   ]
  },
  {
   "cell_type": "code",
   "execution_count": 22,
   "id": "a8020cd4-9704-4b96-b7c5-557e5402d7c0",
   "metadata": {},
   "outputs": [
    {
     "data": {
      "text/html": [
       "<div><div id=196d884c-638e-4703-a6f5-620f9d4a641c style=\"display:none; background-color:#9D6CFF; color:white; width:200px; height:30px; padding-left:5px; border-radius:4px; flex-direction:row; justify-content:space-around; align-items:center;\" onmouseover=\"this.style.backgroundColor='#BA9BF8'\" onmouseout=\"this.style.backgroundColor='#9D6CFF'\" onclick=\"window.commands?.execute('create-mitosheet-from-dataframe-output');\">See Full Dataframe in Mito</div> <script> if (window.commands.hasCommand('create-mitosheet-from-dataframe-output')) document.getElementById('196d884c-638e-4703-a6f5-620f9d4a641c').style.display = 'flex' </script> <table border=\"1\" class=\"dataframe\">\n",
       "  <thead>\n",
       "    <tr style=\"text-align: right;\">\n",
       "      <th></th>\n",
       "      <th>0</th>\n",
       "      <th>0</th>\n",
       "    </tr>\n",
       "  </thead>\n",
       "  <tbody>\n",
       "    <tr>\n",
       "      <th>0</th>\n",
       "      <td>FEDFUNDS</td>\n",
       "      <td>0.182386</td>\n",
       "    </tr>\n",
       "    <tr>\n",
       "      <th>1</th>\n",
       "      <td>CURRCIR</td>\n",
       "      <td>1.119148</td>\n",
       "    </tr>\n",
       "    <tr>\n",
       "      <th>2</th>\n",
       "      <td>PSAVERT</td>\n",
       "      <td>-0.027447</td>\n",
       "    </tr>\n",
       "    <tr>\n",
       "      <th>3</th>\n",
       "      <td>PERMIT</td>\n",
       "      <td>0.118363</td>\n",
       "    </tr>\n",
       "  </tbody>\n",
       "</table></div>"
      ],
      "text/plain": [
       "          0         0\n",
       "0  FEDFUNDS  0.182386\n",
       "1   CURRCIR  1.119148\n",
       "2   PSAVERT -0.027447\n",
       "3    PERMIT  0.118363"
      ]
     },
     "execution_count": 22,
     "metadata": {},
     "output_type": "execute_result"
    }
   ],
   "source": [
    "coefficients = pd.concat([pd.DataFrame(X.columns),pd.DataFrame(np.transpose(regr.coef_))], axis = 1)\n",
    "coefficients"
   ]
  },
  {
   "cell_type": "markdown",
   "id": "92d8febc-6f17-45a4-a519-8dc2fb751cad",
   "metadata": {},
   "source": [
    "`CURRCIR (Currency in Circulation)`具有最高的系数，这意味着对模型的影响最大。\n",
    "\n",
    "在模型适合我们的训练数据后，我们可以继续预测我们的测试集，以评估模型性能。让我们将预测存储在`predicted`中。\n",
    "\n",
    "评估指标：\n",
    "1. 决定系数 （R^2）。这是数据中模型置信度的最重要指标，在回归模型的所有描述中都是必需的。\n",
    "2. 均方误差 （MSE）。此值测量实际值和预测值之间的均方根误差。\n",
    "\n"
   ]
  },
  {
   "cell_type": "code",
   "execution_count": 23,
   "id": "685906c8-9b35-4138-ac7a-ccc92df3a4d9",
   "metadata": {},
   "outputs": [
    {
     "name": "stdout",
     "output_type": "stream",
     "text": [
      "MSE:  0.048140955259271395\n",
      "RMSE:  0.024070477629635698\n",
      "r2 score for Random Forest model is 0.9543343215374887\n"
     ]
    }
   ],
   "source": [
    "y_pred = regr.predict(X_test)\n",
    "mse = mean_squared_error(y_test, y_pred)\n",
    "print(\"MSE: \", mse)\n",
    "print(\"RMSE: \", mse*(1/2.0)) \n",
    "\n",
    "r2 = r2_score(y_test, y_pred)\n",
    "print('r2 score for Random Forest model is', r2)"
   ]
  },
  {
   "cell_type": "markdown",
   "id": "98589844-05b6-45df-b8e1-17073042e8c2",
   "metadata": {},
   "source": [
    "### （2）RandomForest Regression"
   ]
  },
  {
   "cell_type": "markdown",
   "id": "ec166a62-0f90-49bf-912e-59da1b5b5225",
   "metadata": {},
   "source": [
    "下面使用了随机森林回归的方法，因为`Random forest regression` 考虑了多种预测结果，所以基于随机森林的预测更准确、算法更稳定。"
   ]
  },
  {
   "cell_type": "code",
   "execution_count": 24,
   "id": "53b37750-9695-4247-bb43-29e7f41bbb30",
   "metadata": {},
   "outputs": [
    {
     "name": "stdout",
     "output_type": "stream",
     "text": [
      "R-squared: 0.9988945870353322\n"
     ]
    }
   ],
   "source": [
    "rfr = RandomForestRegressor()\n",
    "\n",
    "rfr.fit(X_train, y_train)\n",
    "\n",
    "score = rfr.score(X_train, y_train)\n",
    "print(\"R-squared:\", score)"
   ]
  },
  {
   "cell_type": "code",
   "execution_count": 25,
   "id": "9c236495-eb17-40e8-ae2b-d48c97b03aa3",
   "metadata": {},
   "outputs": [
    {
     "name": "stdout",
     "output_type": "stream",
     "text": [
      "MSE:  0.00568486950353933\n",
      "RMSE:  0.002842434751769665\n",
      "r2 score for Random Forest model is 0.9946074310023176\n"
     ]
    }
   ],
   "source": [
    "ypred = rfr.predict(X_test)\n",
    "\n",
    "mse = mean_squared_error(y_test, ypred)\n",
    "print(\"MSE: \", mse)\n",
    "print(\"RMSE: \", mse*(1/2.0)) \n",
    "\n",
    "r2 = r2_score(y_test, ypred)\n",
    "print('r2 score for Random Forest model is', r2)"
   ]
  },
  {
   "cell_type": "code",
   "execution_count": 26,
   "id": "f5142dd5-c373-480f-af50-9b597d7dd76a",
   "metadata": {},
   "outputs": [
    {
     "data": {
      "image/png": "[encoded data removed]",
      "text/plain": [
       "<Figure size 360x360 with 1 Axes>"
      ]
     },
     "metadata": {
      "needs_background": "light"
     },
     "output_type": "display_data"
    }
   ],
   "source": [
    "plt.figure(figsize=(5,5))\n",
    "plt.scatter(y_test['SP500'].values, ypred, c='crimson')\n",
    "\n",
    "\n",
    "p1 = max(max(ypred), max(y_test['SP500'].values))\n",
    "p2 = min(min(ypred), min(y_test['SP500'].values))\n",
    "plt.plot([p1, p2], [p1, p2], 'b-')\n",
    "plt.xlabel('True Values', fontsize=15)\n",
    "plt.ylabel('Predictions', fontsize=15)\n",
    "plt.axis('equal')\n",
    "plt.show()"
   ]
  },
  {
   "cell_type": "markdown",
   "id": "b010845f-fe56-43b4-9d43-34c9e3e9e5d4",
   "metadata": {},
   "source": [
    "根据两种回归方法得出的 R2 和 MSE/RMSE，随机森林模型在这例子中显然较优， 其统计线性回归模型中提高了 6%，错误率降低了 20 倍。\n",
    "\n",
    "## 【数据获取过程】"
   ]
  },
  {
   "cell_type": "code",
   "execution_count": null,
   "id": "01096ab1-a1a6-4595-8e3c-1108df8de9d1",
   "metadata": {
    "tags": [
     "remove-output"
    ]
   },
   "outputs": [],
   "source": [
    "from pandas_datareader import data as pdr\n",
    "\n",
    "import yfinance as yf\n",
    "yf.pdr_override() \n",
    "\n",
    "# download dataframe\n",
    "data = pdr.get_data_yahoo(\"^GSPC\", start=\"1985-01-01\", end=\"2022-06-01\", interval = \"1mo\")\n",
    "data = data.rename(columns={'Close':'SP500'})\n",
    "data.index.names=['DATE']\n",
    "data = data[['SP500']]\n",
    "\n",
    "data.to_csv('../data/sp500.csv')"
   ]
  },
  {
   "cell_type": "code",
   "execution_count": null,
   "id": "b4206c80-67dc-419b-a5df-29ccbf54a82c",
   "metadata": {
    "tags": [
     "remove-output"
    ]
   },
   "outputs": [],
   "source": [
    "import pandas as pd\n",
    "import os\n",
    "import glob\n",
    "\n",
    "PATH_DIR = '../data'\n",
    "file_paths = sorted(glob.iglob(PATH_DIR + '/*'), key=os.path.getmtime)\n",
    "\n",
    "df_merge=pd.read_csv(PATH_DIR+'/sp500.csv')\n",
    "df_merge = df_merge.set_index('DATE')\n",
    "\n",
    "for fp in file_paths:\n",
    "    if 'sp500' not in fp:       \n",
    "        df = pd.read_csv(fp)\n",
    "        df = df.set_index('DATE')\n",
    "        df_merge = df_merge.join(df, how='inner')\n",
    "df_merge.to_csv('../us_economic_data.csv')"
   ]
  }
 ],
 "metadata": {
  "kernelspec": {
   "display_name": "Python 3 (ipykernel)",
   "language": "python",
   "name": "python3"
  },
  "language_info": {
   "codemirror_mode": {
    "name": "ipython",
    "version": 3
   },
   "file_extension": ".py",
   "mimetype": "text/x-python",
   "name": "python",
   "nbconvert_exporter": "python",
   "pygments_lexer": "ipython3",
   "version": "3.7.6"
  }
 },
 "nbformat": 4,
 "nbformat_minor": 5
}
